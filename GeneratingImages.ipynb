{
 "cells": [
  {
   "cell_type": "code",
   "execution_count": 1,
   "id": "294b413a",
   "metadata": {},
   "outputs": [],
   "source": [
    "import os\n",
    "import cv2\n",
    "import numpy as np\n",
    "from tqdm import tqdm\n",
    "\n",
    "# Define paths\n",
    "organized_dir = os.path.expanduser('~/Downloads/BIG_2015/organized')\n",
    "organized_images_dir = os.path.expanduser('~/Downloads/BIG_2015/organized_images')\n",
    "\n",
    "# Create the destination directory if it doesn't exist\n",
    "os.makedirs(organized_images_dir, exist_ok=True)"
   ]
  },
  {
   "cell_type": "code",
   "execution_count": 2,
   "id": "1eff4139-bd4f-4f5c-9580-68397d45cea4",
   "metadata": {},
   "outputs": [],
   "source": [
    "def bytes_file_to_image(bytes_file_path, output_image_path, width=256):\n",
    "    \"\"\"\n",
    "    Reads a .bytes file, converts its hex content to a grayscale image, and saves it.\n",
    "    \n",
    "    :param bytes_file_path: Path to the input .bytes file\n",
    "    :param output_image_path: Path to the output image file (e.g., .png)\n",
    "    :param width: The fixed width for the output image\n",
    "    \"\"\"\n",
    "    # Read all lines from the .bytes file\n",
    "    with open(bytes_file_path, 'r') as f:\n",
    "        lines = f.readlines()\n",
    "    \n",
    "    # A list to store the parsed byte values\n",
    "    byte_values = []\n",
    "    \n",
    "    for line in lines:\n",
    "        # Example line: \"00401000 55 8B EC 6A FF ...\"\n",
    "        parts = line.strip().split()\n",
    "        \n",
    "        # The first part is the address, skip it\n",
    "        hex_bytes = parts[1:]\n",
    "        \n",
    "        for hb in hex_bytes:\n",
    "            if hb == \"??\":\n",
    "                val = 0  # treat unknown as 0x00\n",
    "            else:\n",
    "                # convert hex string (e.g. '8B') to int\n",
    "                val = int(hb, 16)\n",
    "            byte_values.append(val)\n",
    "    \n",
    "    # Convert to a numpy array\n",
    "    byte_array = np.array(byte_values, dtype=np.uint8)\n",
    "    \n",
    "    # Reshape based on the given width\n",
    "    # height = total_bytes // width (integer division)\n",
    "    height = len(byte_array) // width\n",
    "    byte_array = byte_array[:height*width]  # truncate any leftover\n",
    "    reshaped = byte_array.reshape((height, width))\n",
    "    \n",
    "    # Optionally, resize if needed (e.g., to 64x64 for DCGAN)\n",
    "    reshaped = cv2.resize(reshaped, (64, 64))\n",
    "    \n",
    "    # Save as an 8-bit grayscale image\n",
    "    cv2.imwrite(output_image_path, reshaped)\n"
   ]
  },
  {
   "cell_type": "code",
   "execution_count": 3,
   "id": "c6075c41-1441-4dc1-a68b-536a33617218",
   "metadata": {},
   "outputs": [],
   "source": [
    "def convert_folder_to_images(folder_path, output_folder, width=256):\n",
    "    \"\"\"\n",
    "    Convert all .bytes files in 'folder_path' to grayscale images in 'output_folder'.\n",
    "    :param folder_path: Path to the folder containing .bytes files\n",
    "    :param output_folder: Path to the folder where images will be saved\n",
    "    :param width: Desired image width\n",
    "    \"\"\"\n",
    "    os.makedirs(output_folder, exist_ok=True)\n",
    "    \n",
    "    # List all .bytes files in the folder\n",
    "    bytes_files = [f for f in os.listdir(folder_path) if f.endswith('.bytes')]\n",
    "    \n",
    "    for f_name in tqdm(bytes_files, desc=f\"Converting {os.path.basename(folder_path)}\"):\n",
    "        input_path = os.path.join(folder_path, f_name)\n",
    "        \n",
    "        # Construct output image path (replace .bytes with .png)\n",
    "        base_name = os.path.splitext(f_name)[0]\n",
    "        output_image_name = base_name + \".png\"\n",
    "        output_path = os.path.join(output_folder, output_image_name)\n",
    "        \n",
    "        # Skip if the image already exists\n",
    "        if os.path.exists(output_path):\n",
    "            continue\n",
    "        \n",
    "        try:\n",
    "            bytes_file_to_image(input_path, output_path, width=width)\n",
    "        except Exception as e:\n",
    "            print(f\"Error converting {input_path}: {e}\")\n"
   ]
  },
  {
   "cell_type": "code",
   "execution_count": 4,
   "id": "feedfba4-0f2d-4db0-ad60-091d84a94323",
   "metadata": {},
   "outputs": [
    {
     "name": "stderr",
     "output_type": "stream",
     "text": [
      "Converting Backdoor_Kelihos_ver3: 100%|█████| 2942/2942 [10:20<00:00,  4.74it/s]\n",
      "Converting Obfuscated_Malware: 100%|████████| 1228/1228 [00:36<00:00, 34.03it/s]\n",
      "Converting Backdoor_Kelihos_ver1: 100%|███████| 398/398 [00:44<00:00,  8.99it/s]\n",
      "Converting Trojan: 100%|██████████████████████| 475/475 [00:19<00:00, 24.06it/s]\n",
      "Converting Worm: 100%|██████████████████████| 1541/1541 [01:20<00:00, 19.26it/s]\n",
      "Converting Trojan_Downloader: 100%|███████████| 751/751 [00:46<00:00, 16.07it/s]\n",
      "Converting Backdoor_Simda: 100%|████████████████| 42/42 [00:04<00:00,  8.63it/s]\n",
      "Converting Backdoor_Gatak: 100%|████████████| 1013/1013 [01:25<00:00, 11.91it/s]\n",
      "Converting Adware: 100%|████████████████████| 2478/2478 [07:21<00:00,  5.61it/s]"
     ]
    },
    {
     "name": "stdout",
     "output_type": "stream",
     "text": [
      "All .bytes files have been converted to images.\n"
     ]
    },
    {
     "name": "stderr",
     "output_type": "stream",
     "text": [
      "\n"
     ]
    }
   ],
   "source": [
    "# List subfolders (each subfolder = one malware family)\n",
    "family_folders = [d for d in os.listdir(organized_dir) if os.path.isdir(os.path.join(organized_dir, d))]\n",
    "\n",
    "for family_name in family_folders:\n",
    "    input_folder = os.path.join(organized_dir, family_name)\n",
    "    output_folder = os.path.join(organized_images_dir, family_name)\n",
    "    \n",
    "    # Convert all .bytes files in this family folder\n",
    "    convert_folder_to_images(input_folder, output_folder, width=256)\n",
    "\n",
    "print(\"All .bytes files have been converted to images.\")\n"
   ]
  },
  {
   "cell_type": "code",
   "execution_count": null,
   "id": "47f2b1e2-6bc7-474f-9936-47cb8b844667",
   "metadata": {},
   "outputs": [],
   "source": []
  }
 ],
 "metadata": {
  "kernelspec": {
   "display_name": "Python 3 (ipykernel)",
   "language": "python",
   "name": "python3"
  },
  "language_info": {
   "codemirror_mode": {
    "name": "ipython",
    "version": 3
   },
   "file_extension": ".py",
   "mimetype": "text/x-python",
   "name": "python",
   "nbconvert_exporter": "python",
   "pygments_lexer": "ipython3",
   "version": "3.12.3"
  }
 },
 "nbformat": 4,
 "nbformat_minor": 5
}
