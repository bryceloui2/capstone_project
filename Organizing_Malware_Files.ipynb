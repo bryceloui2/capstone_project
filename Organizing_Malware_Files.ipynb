{
 "cells": [
  {
   "cell_type": "code",
   "execution_count": 1,
   "id": "5b9638e5",
   "metadata": {},
   "outputs": [],
   "source": [
    "import os\n",
    "import shutil\n",
    "import pandas as pd"
   ]
  },
  {
   "cell_type": "code",
   "execution_count": 2,
   "id": "cd4b0d77",
   "metadata": {},
   "outputs": [],
   "source": [
    "# Expand the '~' in file paths\n",
    "base_dir = os.path.expanduser('~/Downloads/BIG_2015')\n",
    "train_dir = os.path.join(base_dir, 'train')\n",
    "csv_path = os.path.join(base_dir, 'trainLabels.csv')\n",
    "\n",
    "# Define the destination directory for organized files\n",
    "organized_dir = os.path.join(base_dir, 'organized')\n",
    "\n",
    "# Create the organized directory if it doesn't exist\n",
    "os.makedirs(organized_dir, exist_ok=True)"
   ]
  },
  {
   "cell_type": "code",
   "execution_count": 3,
   "id": "ec2811cd",
   "metadata": {},
   "outputs": [],
   "source": [
    "# Load the CSV file with labels\n",
    "df_labels = pd.read_csv(csv_path)\n",
    "\n",
    "# Display the first few rows to verify\n",
    "df_labels.head()\n",
    "\n",
    "# Define a mapping from numeric class to malware family name\n",
    "label_mapping = {\n",
    "    1: 'Worm',\n",
    "    2: 'Adware',\n",
    "    3: 'Backdoor_Kelihos_ver3',\n",
    "    4: 'Trojan',\n",
    "    5: 'Backdoor_Simda',\n",
    "    6: 'Trojan_Downloader',\n",
    "    7: 'Backdoor_Kelihos_ver1',\n",
    "    8: 'Obfuscated_Malware',\n",
    "    9: 'Backdoor_Gatak'\n",
    "}"
   ]
  },
  {
   "cell_type": "code",
   "execution_count": 4,
   "id": "b90767dd",
   "metadata": {},
   "outputs": [
    {
     "name": "stdout",
     "output_type": "stream",
     "text": [
      "Files have been organized by family.\n"
     ]
    }
   ],
   "source": [
    "import os\n",
    "import shutil\n",
    "import pandas as pd\n",
    "\n",
    "# Assuming these paths and mappings are already defined:\n",
    "# base_dir, train_dir, csv_path, organized_dir, label_mapping\n",
    "\n",
    "# Load the CSV file with labels\n",
    "df_labels = pd.read_csv(csv_path)\n",
    "\n",
    "for index, row in df_labels.iterrows():\n",
    "    file_id = row['Id']  # or whatever your CSV column is named\n",
    "    label = row['Class']\n",
    "    \n",
    "    # Get the family name using the mapping\n",
    "    family_name = label_mapping.get(label, 'Unknown')\n",
    "    \n",
    "    # Create the destination folder for this family if it doesn't exist\n",
    "    dest_folder = os.path.join(organized_dir, family_name)\n",
    "    os.makedirs(dest_folder, exist_ok=True)\n",
    "    \n",
    "    # Define source file paths\n",
    "    asm_file = os.path.join(train_dir, f\"{file_id}.asm\")\n",
    "    bytes_file = os.path.join(train_dir, f\"{file_id}.bytes\")\n",
    "    \n",
    "    # Define destination file paths\n",
    "    dest_asm = os.path.join(dest_folder, f\"{file_id}.asm\")\n",
    "    dest_bytes = os.path.join(dest_folder, f\"{file_id}.bytes\")\n",
    "    \n",
    "    # Copy the .asm file if it exists and isn’t already copied\n",
    "    if os.path.exists(asm_file) and not os.path.exists(dest_asm):\n",
    "        shutil.copy(asm_file, dest_folder)\n",
    "    elif not os.path.exists(asm_file):\n",
    "        print(f\"Warning: {asm_file} not found.\")\n",
    "    \n",
    "    # Copy the .bytes file if it exists and isn’t already copied\n",
    "    if os.path.exists(bytes_file) and not os.path.exists(dest_bytes):\n",
    "        shutil.copy(bytes_file, dest_folder)\n",
    "    elif not os.path.exists(bytes_file):\n",
    "        print(f\"Warning: {bytes_file} not found.\")\n",
    "\n",
    "print(\"Files have been organized by family.\")\n"
   ]
  },
  {
   "cell_type": "code",
   "execution_count": null,
   "id": "6471f73c",
   "metadata": {},
   "outputs": [],
   "source": []
  }
 ],
 "metadata": {
  "kernelspec": {
   "display_name": "Python 3 (ipykernel)",
   "language": "python",
   "name": "python3"
  },
  "language_info": {
   "codemirror_mode": {
    "name": "ipython",
    "version": 3
   },
   "file_extension": ".py",
   "mimetype": "text/x-python",
   "name": "python",
   "nbconvert_exporter": "python",
   "pygments_lexer": "ipython3",
   "version": "3.12.3"
  }
 },
 "nbformat": 4,
 "nbformat_minor": 5
}
